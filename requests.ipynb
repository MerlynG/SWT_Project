{
 "cells": [
  {
   "cell_type": "code",
   "execution_count": 23,
   "metadata": {},
   "outputs": [],
   "source": [
    "# Importation des bibliothèques nécessaires\n",
    "from rdflib import Graph\n",
    "\n",
    "# Initialisation du graphe RDF\n",
    "g = Graph()\n",
    "\n",
    "# Chargement de l'ontologie\n",
    "ontology_file = \"dnd_ontology.rdf\"\n",
    "g.parse(ontology_file, format=\"xml\")\n",
    "\n",
    "# Fonction pour exécuter et afficher une requête SPARQL\n",
    "def run_query(query):\n",
    "    results = g.query(query)\n",
    "    return results\n",
    "\n",
    "def cleanIRI(iri):\n",
    "    return f\"\\033[91m{iri.split('dnd#')[1]}\\033[0m\""
   ]
  },
  {
   "cell_type": "code",
   "execution_count": 24,
   "metadata": {},
   "outputs": [
    {
     "name": "stdout",
     "output_type": "stream",
     "text": [
      "\u001b[91mAragorn\u001b[0m a pour alignement \u001b[91mLoyalBon\u001b[0m\n",
      "\u001b[91mGrandMaitreArcanis\u001b[0m a pour alignement \u001b[91mVraiNeutre\u001b[0m\n",
      "\u001b[91mLOmbreNoire\u001b[0m a pour alignement \u001b[91mChaotiqueMauvais\u001b[0m\n",
      "\u001b[91mRoiElron\u001b[0m a pour alignement \u001b[91mLoyalBon\u001b[0m\n"
     ]
    }
   ],
   "source": [
    "# 1. Récupérer tous les personnages et leur alignement\n",
    "query1 = \"\"\"\n",
    "SELECT ?personnage ?alignement\n",
    "WHERE {\n",
    "  ?personnage a :Personnage .\n",
    "  ?personnage :aPourAlignement ?alignement .\n",
    "}\n",
    "\"\"\"\n",
    "results = run_query(query1)\n",
    "for r in results:\n",
    "  print(f\"{cleanIRI(r.personnage)} a pour alignement {cleanIRI(r.alignement)}\")"
   ]
  },
  {
   "cell_type": "code",
   "execution_count": 25,
   "metadata": {},
   "outputs": [
    {
     "name": "stdout",
     "output_type": "stream",
     "text": [
      "Classes disponibles :\n",
      "- \u001b[91mAssassin\u001b[0m\n",
      "- \u001b[91mBarbare\u001b[0m\n",
      "- \u001b[91mGuerrier\u001b[0m\n",
      "- \u001b[91mMoine\u001b[0m\n",
      "- \u001b[91mNonCombattant\u001b[0m\n",
      "- \u001b[91mBarde\u001b[0m\n",
      "- \u001b[91mClerc\u001b[0m\n",
      "- \u001b[91mDruide\u001b[0m\n",
      "- \u001b[91mMagicien\u001b[0m\n",
      "- \u001b[91mOccultiste\u001b[0m\n",
      "- \u001b[91mPaladin\u001b[0m\n",
      "- \u001b[91mRodeur\u001b[0m\n",
      "- \u001b[91mSorcier\u001b[0m\n"
     ]
    }
   ],
   "source": [
    "# 2. Trouver les classes disponibles pour les personnages\n",
    "query2 = \"\"\"\n",
    "SELECT DISTINCT ?classe\n",
    "WHERE {\n",
    "  ?type rdfs:subClassOf :Classe .\n",
    "  ?classe a ?type .\n",
    "}\n",
    "\"\"\"\n",
    "results = run_query(query2)\n",
    "print(\"Classes disponibles :\")\n",
    "for r in results:\n",
    "  print(f\"- {cleanIRI(r.classe)}\")"
   ]
  },
  {
   "cell_type": "code",
   "execution_count": 26,
   "metadata": {},
   "outputs": [
    {
     "name": "stdout",
     "output_type": "stream",
     "text": [
      "\u001b[91mLaGardeRoyale\u001b[0m est un.e \u001b[91mArmee\u001b[0m, a pour alignement \u001b[91mLoyalBon\u001b[0m\n",
      "- Alliés : \u001b[91mLeConseilDesMages\u001b[0m\n",
      "- Ennemis : \u001b[91mLesVoleursDeLOmbre\u001b[0m\n",
      "- Leader : \u001b[91mRoiElron\u001b[0m\n",
      "\u001b[91mLeConseilDesMages\u001b[0m est un.e \u001b[91mGuilde\u001b[0m, a pour alignement \u001b[91mVraiNeutre\u001b[0m\n",
      "- Alliés : \u001b[91mLaGardeRoyale\u001b[0m\n",
      "- Leader : \u001b[91mGrandMaitreArcanis\u001b[0m\n",
      "\u001b[91mLesVoleursDeLOmbre\u001b[0m est un.e \u001b[91mOrganisationCriminelle\u001b[0m, a pour alignement \u001b[91mChaotiqueMauvais\u001b[0m\n",
      "- Ennemis : \u001b[91mLaGardeRoyale\u001b[0m\n"
     ]
    }
   ],
   "source": [
    "# 3. Lister les factions et toutes leurs informations\n",
    "query3 = \"\"\"\n",
    "SELECT DISTINCT ?faction ?type ?alignement ?allies ?ennemis ?leader\n",
    "WHERE {\n",
    "  ?type rdfs:subClassOf :Faction .\n",
    "  ?faction a ?type .\n",
    "  ?faction :aPourAlignement ?alignement .\n",
    "  OPTIONAL { ?faction a ?type . }\n",
    "  OPTIONAL { ?faction :aPourAllies ?allies . }\n",
    "  OPTIONAL { ?faction :aPourEnnemis ?ennemis . }\n",
    "  OPTIONAL { ?faction :aPourLeader ?leader . }\n",
    "  OPTIONAL { ?faction :aPourTerritoire ?territoire . }\n",
    "}\n",
    "\"\"\"\n",
    "  \n",
    "results = run_query(query3)\n",
    "for r in results:\n",
    "  print(f\"{cleanIRI(r.faction)} est un.e {cleanIRI(r.type)}, a pour alignement {cleanIRI(r.alignement)}\")\n",
    "  if r.allies != None:\n",
    "    print(f\"- Alliés : {cleanIRI(r.allies)}\")\n",
    "  if r.ennemis != None:\n",
    "    print(f\"- Ennemis : {cleanIRI(r.ennemis)}\")\n",
    "  if r.leader != None:\n",
    "    print(f\"- Leader : {cleanIRI(r.leader)}\")\n",
    "    "
   ]
  },
  {
   "cell_type": "code",
   "execution_count": 27,
   "metadata": {},
   "outputs": [],
   "source": [
    "# 4. Identifier les races et leur vitesse\n",
    "query4 = \"\"\"\n",
    "SELECT ?race ?speed\n",
    "WHERE {\n",
    "  ?race rdfs:subClassOf :Race .\n",
    "  ?race :aVitesseRace ?speed .\n",
    "  \n",
    "}\n",
    "ORDER BY DESC(?speed)\n",
    "\"\"\"\n",
    "results = run_query(query4)\n",
    "for r in results:\n",
    "  print(f\"{cleanIRI(r.race)} a pour vitesse {r.speed}\")"
   ]
  }
 ],
 "metadata": {
  "kernelspec": {
   "display_name": "Python 3",
   "language": "python",
   "name": "python3"
  },
  "language_info": {
   "codemirror_mode": {
    "name": "ipython",
    "version": 3
   },
   "file_extension": ".py",
   "mimetype": "text/x-python",
   "name": "python",
   "nbconvert_exporter": "python",
   "pygments_lexer": "ipython3",
   "version": "3.11.9"
  }
 },
 "nbformat": 4,
 "nbformat_minor": 2
}
